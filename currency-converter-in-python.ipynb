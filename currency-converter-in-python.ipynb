{
 "cells": [
  {
   "cell_type": "code",
   "execution_count": 1,
   "id": "ec0f5d61",
   "metadata": {
    "_cell_guid": "b1076dfc-b9ad-4769-8c92-a6c4dae69d19",
    "_uuid": "8f2839f25d086af736a60e9eeb907d3b93b6e0e5",
    "execution": {
     "iopub.execute_input": "2023-08-28T16:54:18.819975Z",
     "iopub.status.busy": "2023-08-28T16:54:18.819589Z",
     "iopub.status.idle": "2023-08-28T16:54:19.269635Z",
     "shell.execute_reply": "2023-08-28T16:54:19.268236Z"
    },
    "papermill": {
     "duration": 0.456649,
     "end_time": "2023-08-28T16:54:19.271477",
     "exception": true,
     "start_time": "2023-08-28T16:54:18.814828",
     "status": "failed"
    },
    "tags": []
   },
   "outputs": [
    {
     "ename": "ModuleNotFoundError",
     "evalue": "No module named 'PySimpleGUI'",
     "output_type": "error",
     "traceback": [
      "\u001b[0;31m---------------------------------------------------------------------------\u001b[0m",
      "\u001b[0;31mModuleNotFoundError\u001b[0m                       Traceback (most recent call last)",
      "Cell \u001b[0;32mIn[1], line 6\u001b[0m\n\u001b[1;32m      1\u001b[0m \u001b[38;5;66;03m# This Python 3 environment comes with many helpful analytics libraries installed\u001b[39;00m\n\u001b[1;32m      2\u001b[0m \u001b[38;5;66;03m# It is defined by the kaggle/python Docker image: https://github.com/kaggle/docker-python\u001b[39;00m\n\u001b[1;32m      3\u001b[0m \u001b[38;5;66;03m# For example, here's several helpful packages to load\u001b[39;00m\n\u001b[1;32m      5\u001b[0m \u001b[38;5;28;01mimport\u001b[39;00m \u001b[38;5;21;01mrequests\u001b[39;00m \u001b[38;5;66;03m#\"The 'requests' module in Python is used for making HTTP requests.\"\u001b[39;00m\n\u001b[0;32m----> 6\u001b[0m \u001b[38;5;28;01mimport\u001b[39;00m \u001b[38;5;21;01mPySimpleGUI\u001b[39;00m \u001b[38;5;28;01mas\u001b[39;00m \u001b[38;5;21;01msg\u001b[39;00m \u001b[38;5;66;03m# PySimpleGUI is a Python library that makes it easy to build user interface applications.\u001b[39;00m\n\u001b[1;32m      8\u001b[0m \u001b[38;5;28;01mimport\u001b[39;00m \u001b[38;5;21;01mos\u001b[39;00m\n\u001b[1;32m      9\u001b[0m \u001b[38;5;28;01mfor\u001b[39;00m dirname, _, filenames \u001b[38;5;129;01min\u001b[39;00m os\u001b[38;5;241m.\u001b[39mwalk(\u001b[38;5;124m'\u001b[39m\u001b[38;5;124m/kaggle/input\u001b[39m\u001b[38;5;124m'\u001b[39m):\n",
      "\u001b[0;31mModuleNotFoundError\u001b[0m: No module named 'PySimpleGUI'"
     ]
    }
   ],
   "source": [
    "# This Python 3 environment comes with many helpful analytics libraries installed\n",
    "# It is defined by the kaggle/python Docker image: https://github.com/kaggle/docker-python\n",
    "# For example, here's several helpful packages to load\n",
    "\n",
    "import requests #\"The 'requests' module in Python is used for making HTTP requests.\"\n",
    "import PySimpleGUI as sg # PySimpleGUI is a Python library that makes it easy to build user interface applications.\n",
    "\n",
    "import os\n",
    "for dirname, _, filenames in os.walk('/kaggle/input'):\n",
    "    for filename in filenames:\n",
    "        print(os.path.join(dirname, filename))"
   ]
  },
  {
   "attachments": {
    "96d6b2db-9fd6-486b-a15a-e319ba10861b.png": {
     "image/png": "[encoded data removed]"
    }
   },
   "cell_type": "markdown",
   "id": "ed04fb30",
   "metadata": {
    "papermill": {
     "duration": null,
     "end_time": null,
     "exception": null,
     "start_time": null,
     "status": "pending"
    },
    "tags": []
   },
   "source": [
    "\n",
    "## This code creates a currency converter using an API and GUI. It fetches exchange rates from the API, lets users select currencies and enter amounts, then calculates and displays converted values in the GUI. Error handling ensures a smooth experience.\n",
    "\n",
    "* In order to run the algorithm, you need to sign up for free on the fixer.io website and obtain your API key.\n",
    "\n",
    "### Algorithm interface: \n",
    "\n",
    "![image.png](attachment:96d6b2db-9fd6-486b-a15a-e319ba10861b.png)"
   ]
  },
  {
   "cell_type": "code",
   "execution_count": null,
   "id": "a4dbe60a",
   "metadata": {
    "papermill": {
     "duration": null,
     "end_time": null,
     "exception": null,
     "start_time": null,
     "status": "pending"
    },
    "tags": []
   },
   "outputs": [],
   "source": [
    "# Define the main function\n",
    "def main():\n",
    "    # Make an HTTP GET request to retrieve exchange rate data\n",
    "    response = requests.get(\"Register on Fixer.io and provide your API address here.\")\n",
    "    #response = requests.get(\"http://data.fixer.io/api/latest?access_key=91214e7b42d1b9132112as214\") # for example\n",
    "    data = response.json()  # Convert the response to a JSON format\n",
    "    rates = data[\"rates\"]  # Extract the exchange rates\n",
    "    date = data[\"date\"]  # Extract the date of the exchange rates\n",
    "    types_of_currencies_list = list(rates.keys())  # Create a list of available currency types\n",
    "\n",
    "    # Define the layout of the graphical user interface\n",
    "    layout = [\n",
    "        [sg.Image(filename=r\"images.png\", size=(400, 200), pad=((0, 0), (0, 0)), background_color='white')],\n",
    "        [sg.Text('Currency Converter', font=('Helvetica', 20))],\n",
    "        [sg.Text(f'Date: {date}')],\n",
    "        [sg.Text('Select Currency to Convert:'), sg.Combo(types_of_currencies_list, key='_currency_', size=(10, 1))],\n",
    "        [sg.Text('Current Exchange Rate: -', key='_guncelkur_', text_color=\"blue\")],\n",
    "        [sg.Text('Amount:'), sg.InputText(key='_amount_', size=(10, 1))],\n",
    "        [sg.Button('Convert', key='_exchange_'), sg.Exit()],\n",
    "        [sg.Output(size=(40, 10), background_color=\"black\", text_color=\"red\", font=(\"Helvetica\", 10), key=\"_OUTPUT_\")],\n",
    "    ]\n",
    "\n",
    "    # Create a window using the defined layout\n",
    "    window = sg.Window('Currency Converter', layout, size=(400, 500))\n",
    "\n",
    "    # Enter the event loop\n",
    "    while True:\n",
    "        event, values = window.read()  # Read events and values from the window\n",
    "        if event in (sg.WIN_CLOSED, 'Exit'):  # Exit the loop if the window is closed or Exit button is clicked\n",
    "            break\n",
    "\n",
    "        if event == '_exchange_':  # If Convert button is clicked\n",
    "            select_currency = values['_currency_']  # Get the selected currency from the dropdown\n",
    "            try:\n",
    "                price = float(rates[select_currency])  # Get the exchange rate for the selected currency\n",
    "                turk_lirasi = float(rates[\"TRY\"])  # Get the exchange rate for Turkish Lira\n",
    "                tl_value = (1 / price) * turk_lirasi  # Calculate the equivalent Turkish Lira value\n",
    "                window['_guncelkur_'].update(value=f'Current Rate: {tl_value:.4f}')  # Update the UI with the rate\n",
    "                amount = values['_amount_']  # Get the amount to convert\n",
    "                try:\n",
    "                    amount = float(amount)\n",
    "                    calc = amount * tl_value  # Calculate the converted amount\n",
    "                    print(f\"{select_currency.upper()}/TRY: {calc:.4f}\")  # Print the converted amount\n",
    "                except ValueError:\n",
    "                    print(\"Please specify an amount.\")\n",
    "                    print(f\"1 {select_currency.upper()}/TRY: {tl_value:.4f}\")\n",
    "            except KeyError:\n",
    "                print(\"Please select a currency to convert!!!\")\n",
    "\n",
    "    window.close()  # Close the GUI window when the loop exits\n",
    "\n",
    "# Run the main function if the script is executed directly\n",
    "if __name__ == \"__main__\":\n",
    "    main()\n"
   ]
  },
  {
   "cell_type": "markdown",
   "id": "b7ec8708",
   "metadata": {
    "papermill": {
     "duration": null,
     "end_time": null,
     "exception": null,
     "start_time": null,
     "status": "pending"
    },
    "tags": []
   },
   "source": [
    "## CONCLUSION\n",
    "\n",
    "If you have any question, I will be happy to hear it!!! Thanks"
   ]
  }
 ],
 "metadata": {
  "kernelspec": {
   "display_name": "Python 3",
   "language": "python",
   "name": "python3"
  },
  "language_info": {
   "codemirror_mode": {
    "name": "ipython",
    "version": 3
   },
   "file_extension": ".py",
   "mimetype": "text/x-python",
   "name": "python",
   "nbconvert_exporter": "python",
   "pygments_lexer": "ipython3",
   "version": "3.10.12"
  },
  "papermill": {
   "default_parameters": {},
   "duration": 11.681099,
   "end_time": "2023-08-28T16:54:20.093935",
   "environment_variables": {},
   "exception": true,
   "input_path": "__notebook__.ipynb",
   "output_path": "__notebook__.ipynb",
   "parameters": {},
   "start_time": "2023-08-28T16:54:08.412836",
   "version": "2.4.0"
  }
 },
 "nbformat": 4,
 "nbformat_minor": 5
}
